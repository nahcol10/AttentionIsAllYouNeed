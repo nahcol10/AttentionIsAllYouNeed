{
  "nbformat": 4,
  "nbformat_minor": 0,
  "metadata": {
    "colab": {
      "provenance": []
    },
    "kernelspec": {
      "name": "python3",
      "display_name": "Python 3"
    },
    "language_info": {
      "name": "python"
    }
  },
  "cells": [
    {
      "cell_type": "markdown",
      "source": [
        "# WorkFlow\n",
        "\n",
        "1.Import the Important libraries<br>\n",
        "2.Load the dataset (convert into tensors) -> (convert to batches)<br>\n",
        "3.Create the Logistic Regression Model<br>\n",
        "4.Pick a loss function and optimizer<br>\n",
        "5.Train the model in loop<br>\n",
        "6.Evaluate the model<br>\n",
        "7.Improve the model<br>\n",
        "8.save the model<br>"
      ],
      "metadata": {
        "id": "eQBiqqMn6Mrw"
      }
    },
    {
      "cell_type": "markdown",
      "source": [
        "### 1.Importing important Libraries"
      ],
      "metadata": {
        "id": "to6VZ76d7L_V"
      }
    },
    {
      "cell_type": "code",
      "execution_count": null,
      "metadata": {
        "id": "kQUcraPB6JQE"
      },
      "outputs": [],
      "source": [
        "import time\n",
        "import torch\n",
        "import torch.nn as nn\n",
        "import torch.nn.functional as F\n",
        "from torch.utils.data import DataLoader\n",
        "from torchvision import datasets,transforms\n",
        "import matplotlib.pyplot as plt"
      ]
    },
    {
      "cell_type": "markdown",
      "source": [
        "### 2.Load the Data(convert into Tensors)"
      ],
      "metadata": {
        "id": "gsnV1TV-8N4z"
      }
    },
    {
      "cell_type": "code",
      "source": [
        "train_dataset=datasets.FashionMNIST(root='datasets',train=True,transform=transforms.ToTensor(),download=True)\n",
        "test_dataset=datasets.FashionMNIST(root='datasets',train=False,transform=transforms.ToTensor())"
      ],
      "metadata": {
        "id": "v2k19Q1P8M0D"
      },
      "execution_count": null,
      "outputs": []
    },
    {
      "cell_type": "code",
      "source": [
        "train_dataset"
      ],
      "metadata": {
        "colab": {
          "base_uri": "https://localhost:8080/"
        },
        "id": "cv_2d9gk8M9_",
        "outputId": "8ea061d2-d84b-44c5-a928-7aebcc57691d"
      },
      "execution_count": null,
      "outputs": [
        {
          "output_type": "execute_result",
          "data": {
            "text/plain": [
              "Dataset FashionMNIST\n",
              "    Number of datapoints: 60000\n",
              "    Root location: datasets\n",
              "    Split: Train\n",
              "    StandardTransform\n",
              "Transform: ToTensor()"
            ]
          },
          "metadata": {},
          "execution_count": 37
        }
      ]
    },
    {
      "cell_type": "code",
      "source": [
        "test_dataset"
      ],
      "metadata": {
        "colab": {
          "base_uri": "https://localhost:8080/"
        },
        "id": "Wn0aW-pL8NAq",
        "outputId": "e8734020-e0a4-4348-f915-1ad7185552fd"
      },
      "execution_count": null,
      "outputs": [
        {
          "output_type": "execute_result",
          "data": {
            "text/plain": [
              "Dataset FashionMNIST\n",
              "    Number of datapoints: 10000\n",
              "    Root location: datasets\n",
              "    Split: Test\n",
              "    StandardTransform\n",
              "Transform: ToTensor()"
            ]
          },
          "metadata": {},
          "execution_count": 38
        }
      ]
    },
    {
      "cell_type": "markdown",
      "source": [
        "### 2.2 Converting dataset into batch"
      ],
      "metadata": {
        "id": "qhue3SJK-L-Y"
      }
    },
    {
      "cell_type": "code",
      "source": [
        "batch_size=64"
      ],
      "metadata": {
        "id": "zWpzwRqD8NGh"
      },
      "execution_count": null,
      "outputs": []
    },
    {
      "cell_type": "code",
      "source": [
        "train_loader = DataLoader(train_dataset,batch_size=batch_size,shuffle=True)\n",
        "test_loader = DataLoader(test_dataset,batch_size=batch_size,shuffle=False)"
      ],
      "metadata": {
        "id": "YFMWtdvA8NMZ"
      },
      "execution_count": null,
      "outputs": []
    },
    {
      "cell_type": "markdown",
      "source": [
        "### 3.Build Logistic Regression Model"
      ],
      "metadata": {
        "id": "5jt_mHg8_x-F"
      }
    },
    {
      "cell_type": "code",
      "source": [
        "class LogisticRegression(nn.Module):\n",
        "  def __init__(self, in_dim, classes) -> None:\n",
        "    super().__init__()\n",
        "    self.linear = nn.Linear(in_dim,classes)\n",
        "\n",
        "  def forward(self,X):\n",
        "    out = self.linear(X)\n",
        "    return out"
      ],
      "metadata": {
        "id": "lhC9YtYz8NO8"
      },
      "execution_count": null,
      "outputs": []
    },
    {
      "cell_type": "code",
      "source": [
        "model = LogisticRegression(28*28,10)"
      ],
      "metadata": {
        "id": "7nEkTVSw8NRp"
      },
      "execution_count": null,
      "outputs": []
    },
    {
      "cell_type": "code",
      "source": [
        "model.state_dict()"
      ],
      "metadata": {
        "id": "hSpuukzVAwMO",
        "outputId": "a3d6e54d-d381-421e-a478-8c94dccd6822",
        "colab": {
          "base_uri": "https://localhost:8080/"
        }
      },
      "execution_count": null,
      "outputs": [
        {
          "output_type": "execute_result",
          "data": {
            "text/plain": [
              "OrderedDict([('linear.weight',\n",
              "              tensor([[ 2.8608e-02,  1.2115e-02,  1.3590e-02,  ...,  3.8286e-03,\n",
              "                        6.2245e-03, -2.4749e-02],\n",
              "                      [-1.5689e-02, -2.2931e-03,  2.4451e-02,  ..., -3.5455e-02,\n",
              "                        2.9486e-02,  1.1207e-02],\n",
              "                      [-3.4834e-02, -2.2571e-02, -5.1539e-03,  ...,  1.9972e-02,\n",
              "                        2.8091e-03, -3.1551e-02],\n",
              "                      ...,\n",
              "                      [ 3.0142e-02,  3.4225e-02,  4.7370e-04,  ...,  2.0819e-02,\n",
              "                       -3.2220e-02,  1.3310e-02],\n",
              "                      [ 7.5055e-05,  2.7403e-02, -2.3926e-02,  ...,  2.7981e-02,\n",
              "                       -1.7780e-02, -5.4094e-03],\n",
              "                      [-1.8836e-02, -1.9098e-02,  2.3573e-02,  ..., -1.5692e-02,\n",
              "                       -7.8596e-03,  1.7541e-02]])),\n",
              "             ('linear.bias',\n",
              "              tensor([-0.0292,  0.0319, -0.0057,  0.0133,  0.0130,  0.0050,  0.0017, -0.0031,\n",
              "                       0.0275,  0.0207]))])"
            ]
          },
          "metadata": {},
          "execution_count": 43
        }
      ]
    },
    {
      "cell_type": "code",
      "source": [
        "device = 'cude' if torch.cuda.is_available() else 'cpu'"
      ],
      "metadata": {
        "id": "EMhXUW3_NI8T"
      },
      "execution_count": null,
      "outputs": []
    },
    {
      "cell_type": "code",
      "source": [
        "device"
      ],
      "metadata": {
        "colab": {
          "base_uri": "https://localhost:8080/",
          "height": 34
        },
        "id": "6X0Hqa0qNI-x",
        "outputId": "d046bb2f-cb6f-4ac4-89f2-bafda10a2807"
      },
      "execution_count": null,
      "outputs": [
        {
          "output_type": "execute_result",
          "data": {
            "text/plain": [
              "'cpu'"
            ],
            "application/vnd.google.colaboratory.intrinsic+json": {
              "type": "string"
            }
          },
          "metadata": {},
          "execution_count": 45
        }
      ]
    },
    {
      "cell_type": "code",
      "source": [
        "model = model.to(device)"
      ],
      "metadata": {
        "id": "r85fSMLMNsBT"
      },
      "execution_count": null,
      "outputs": []
    },
    {
      "cell_type": "markdown",
      "source": [
        "### 4.Pick a loss function and optimizer"
      ],
      "metadata": {
        "id": "3sTUqn7EN5N5"
      }
    },
    {
      "cell_type": "code",
      "source": [
        "learning_rate = 1e-3"
      ],
      "metadata": {
        "id": "Ylk4xFgzNJBk"
      },
      "execution_count": null,
      "outputs": []
    },
    {
      "cell_type": "code",
      "source": [
        "criterion = nn.CrossEntropyLoss()\n",
        "optimizer = torch.optim.SGD(model.parameters(),lr=learning_rate)"
      ],
      "metadata": {
        "id": "KaDaT44ANJEU"
      },
      "execution_count": null,
      "outputs": []
    },
    {
      "cell_type": "markdown",
      "source": [
        "### 5.Building a Training Loop"
      ],
      "metadata": {
        "id": "1aQVrMINO6Vm"
      }
    },
    {
      "cell_type": "code",
      "source": [
        "total_epochs = 10"
      ],
      "metadata": {
        "id": "ySKKA7WcO9aI"
      },
      "execution_count": null,
      "outputs": []
    },
    {
      "cell_type": "code",
      "source": [
        "for epoch in range(total_epochs):\n",
        "  print(\"----\" * 15)\n",
        "  print(f\"epochs : {epoch + 1}\")\n",
        "  since = time.time()\n",
        "  running_loss=0.0\n",
        "  running_accuracy=0.0\n",
        "  model.train()\n",
        "  for i , data in enumerate(train_loader,1):\n",
        "    img,label=data\n",
        "    img = img.view(img.size(0),-1)\n",
        "    img = img.to(device)\n",
        "    label = label.to(device)\n",
        "\n",
        "    out=model(img)\n",
        "    loss=criterion(out,label)\n",
        "    running_loss += loss.item()\n",
        "    _,pred = torch.max(out,1)\n",
        "    running_accuracy += (label == pred).float().mean()\n",
        "\n",
        "    optimizer.zero_grad()\n",
        "    loss.backward()\n",
        "    optimizer.step()\n",
        "\n",
        "    if i % 300 == 0: #for printing losses ,print out what is happing every 300 indexing\n",
        "        print(f'[{epoch+1}/{total_epochs}] Loss: {running_loss/i:.6f}, Acc: {running_accuracy/i:.6f}')\n",
        "  print(f'Finish {epoch+1} epoch, Loss: {running_loss/i:.6f}, Acc: {running_accuracy/i:.6f}')"
      ],
      "metadata": {
        "id": "LNgML1bsO9cf",
        "colab": {
          "base_uri": "https://localhost:8080/"
        },
        "collapsed": true,
        "outputId": "2b30d553-1eab-4c1a-edee-e81a2294ab13"
      },
      "execution_count": null,
      "outputs": [
        {
          "output_type": "stream",
          "name": "stdout",
          "text": [
            "------------------------------------------------------------\n",
            "epochs : 1\n",
            "[1/10] Loss: 0.996800, Acc: 0.693750\n",
            "[1/10] Loss: 0.982216, Acc: 0.697604\n",
            "[1/10] Loss: 0.968849, Acc: 0.700781\n",
            "Finish 1 epoch, Loss: 0.966921, Acc: 0.701276\n",
            "------------------------------------------------------------\n",
            "epochs : 2\n",
            "[2/10] Loss: 0.904958, Acc: 0.716302\n",
            "[2/10] Loss: 0.902944, Acc: 0.716458\n",
            "[2/10] Loss: 0.895753, Acc: 0.718542\n",
            "Finish 2 epoch, Loss: 0.895453, Acc: 0.718750\n",
            "------------------------------------------------------------\n",
            "epochs : 3\n",
            "[3/10] Loss: 0.859657, Acc: 0.731875\n",
            "[3/10] Loss: 0.852594, Acc: 0.733359\n",
            "[3/10] Loss: 0.847344, Acc: 0.734913\n",
            "Finish 3 epoch, Loss: 0.846488, Acc: 0.734758\n",
            "------------------------------------------------------------\n",
            "epochs : 4\n",
            "[4/10] Loss: 0.823873, Acc: 0.740885\n",
            "[4/10] Loss: 0.814806, Acc: 0.742734\n",
            "[4/10] Loss: 0.810120, Acc: 0.745434\n",
            "Finish 4 epoch, Loss: 0.810085, Acc: 0.745253\n",
            "------------------------------------------------------------\n",
            "epochs : 5\n",
            "[5/10] Loss: 0.786663, Acc: 0.752292\n",
            "[5/10] Loss: 0.786780, Acc: 0.753255\n",
            "[5/10] Loss: 0.782064, Acc: 0.754253\n",
            "Finish 5 epoch, Loss: 0.781425, Acc: 0.754598\n",
            "------------------------------------------------------------\n",
            "epochs : 6\n",
            "[6/10] Loss: 0.764806, Acc: 0.760938\n",
            "[6/10] Loss: 0.764048, Acc: 0.759089\n",
            "[6/10] Loss: 0.758920, Acc: 0.760694\n",
            "Finish 6 epoch, Loss: 0.757949, Acc: 0.760978\n",
            "------------------------------------------------------------\n",
            "epochs : 7\n",
            "[7/10] Loss: 0.743901, Acc: 0.764687\n",
            "[7/10] Loss: 0.739438, Acc: 0.767422\n",
            "[7/10] Loss: 0.737510, Acc: 0.767569\n",
            "Finish 7 epoch, Loss: 0.738194, Acc: 0.767108\n",
            "------------------------------------------------------------\n",
            "epochs : 8\n",
            "[8/10] Loss: 0.733443, Acc: 0.770625\n",
            "[8/10] Loss: 0.725874, Acc: 0.771849\n",
            "[8/10] Loss: 0.721415, Acc: 0.773733\n",
            "Finish 8 epoch, Loss: 0.721482, Acc: 0.773554\n",
            "------------------------------------------------------------\n",
            "epochs : 9\n",
            "[9/10] Loss: 0.708996, Acc: 0.777917\n",
            "[9/10] Loss: 0.708214, Acc: 0.777786\n",
            "[9/10] Loss: 0.707379, Acc: 0.777205\n",
            "Finish 9 epoch, Loss: 0.706959, Acc: 0.777452\n",
            "------------------------------------------------------------\n",
            "epochs : 10\n",
            "[10/10] Loss: 0.696227, Acc: 0.781563\n",
            "[10/10] Loss: 0.694477, Acc: 0.781302\n",
            "[10/10] Loss: 0.693742, Acc: 0.782292\n",
            "Finish 10 epoch, Loss: 0.694031, Acc: 0.781833\n"
          ]
        }
      ]
    },
    {
      "cell_type": "code",
      "source": [],
      "metadata": {
        "id": "hxNaVrmn34Xg"
      },
      "execution_count": null,
      "outputs": []
    },
    {
      "cell_type": "markdown",
      "source": [
        "### 6.Model Evaluation"
      ],
      "metadata": {
        "id": "wEaknamm345o"
      }
    },
    {
      "cell_type": "code",
      "source": [
        "model.eval()\n",
        "eval_loss = 0.0\n",
        "eval_accuracy = 0.0\n",
        "for data in test_loader:\n",
        "  img,label = data\n",
        "  img = img.view(img.size(0),-1)\n",
        "  img = img.to(device)\n",
        "  label = label.to(device)\n",
        "  with torch.no_grad():\n",
        "    out = model(img)\n",
        "    loss = criterion(out,label)\n",
        "  eval_loss += loss\n",
        "  _,predict = torch.max(out,1)\n",
        "  eval_accuracy += (predict == label).float().mean()\n",
        "print(f'Test Loss: {eval_loss/len(test_loader):.6f}, Acc: {eval_accuracy/len(test_loader):.6f}')\n",
        "print(f'Time:{(time.time()-since):.1f} s')"
      ],
      "metadata": {
        "id": "_QADUcQjO9hS",
        "colab": {
          "base_uri": "https://localhost:8080/"
        },
        "outputId": "2fe5f932-9265-4960-89c2-a9384fa8117a"
      },
      "execution_count": null,
      "outputs": [
        {
          "output_type": "stream",
          "name": "stdout",
          "text": [
            "Test Loss: 0.704714, Acc: 0.770701\n",
            "Time:423.0 s\n"
          ]
        }
      ]
    },
    {
      "cell_type": "code",
      "source": [
        "model.state_dict()"
      ],
      "metadata": {
        "id": "utGrTCilO9kA",
        "colab": {
          "base_uri": "https://localhost:8080/"
        },
        "outputId": "e558c329-7156-4d8f-df8e-c75d1ec80abd"
      },
      "execution_count": null,
      "outputs": [
        {
          "output_type": "execute_result",
          "data": {
            "text/plain": [
              "OrderedDict([('linear.weight',\n",
              "              tensor([[ 2.8607e-02,  1.2151e-02,  1.3816e-02,  ..., -1.3907e-03,\n",
              "                        4.5750e-03, -2.4840e-02],\n",
              "                      [-1.5691e-02, -2.2952e-03,  2.4424e-02,  ..., -3.6627e-02,\n",
              "                        2.9135e-02,  1.1162e-02],\n",
              "                      [-3.4838e-02, -2.2572e-02, -5.1651e-03,  ...,  2.7631e-02,\n",
              "                        3.8289e-03, -3.1398e-02],\n",
              "                      ...,\n",
              "                      [ 3.0142e-02,  3.4222e-02,  4.5728e-04,  ...,  1.8833e-02,\n",
              "                       -3.2870e-02,  1.3249e-02],\n",
              "                      [ 7.4085e-05,  2.7393e-02, -2.4036e-02,  ...,  2.4268e-02,\n",
              "                       -1.8722e-02, -5.4740e-03],\n",
              "                      [-1.8837e-02, -1.9101e-02,  2.3550e-02,  ..., -1.5294e-02,\n",
              "                       -7.2748e-03,  1.7614e-02]])),\n",
              "             ('linear.bias',\n",
              "              tensor([-0.0251,  0.0346, -0.0513,  0.0041, -0.1311,  0.3642,  0.0335,  0.0125,\n",
              "                      -0.0652, -0.1011]))])"
            ]
          },
          "metadata": {},
          "execution_count": 65
        }
      ]
    },
    {
      "cell_type": "code",
      "source": [
        "torch.save(model.state_dict(),\"./mymodel.pth\")"
      ],
      "metadata": {
        "id": "QIPBPiIaO9pB"
      },
      "execution_count": null,
      "outputs": []
    },
    {
      "cell_type": "code",
      "source": [],
      "metadata": {
        "id": "lzn7w2QWO9r0"
      },
      "execution_count": null,
      "outputs": []
    }
  ]
}